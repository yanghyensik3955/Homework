{
  "nbformat": 4,
  "nbformat_minor": 0,
  "metadata": {
    "colab": {
      "provenance": [],
      "authorship_tag": "ABX9TyNQ4z3GlTXH+4/VdUI+iQ/X",
      "include_colab_link": true
    },
    "kernelspec": {
      "name": "python3",
      "display_name": "Python 3"
    },
    "language_info": {
      "name": "python"
    }
  },
  "cells": [
    {
      "cell_type": "markdown",
      "metadata": {
        "id": "view-in-github",
        "colab_type": "text"
      },
      "source": [
        "<a href=\"https://colab.research.google.com/github/yanghyensik3955/Homework/blob/main/untitled20%20104~107.ipynb\" target=\"_parent\"><img src=\"https://colab.research.google.com/assets/colab-badge.svg\" alt=\"Open In Colab\"/></a>"
      ]
    },
    {
      "cell_type": "code",
      "execution_count": null,
      "metadata": {
        "id": "5O3RERO2ixmu"
      },
      "outputs": [],
      "source": [
        "#104\n",
        "population={'서울':9407540,'부산':3320276,'인천':2964820}\n",
        "\n",
        "population=dict(서울=9407540,부산=3320276,인천=2964820)\n",
        "print(population)\n",
        "\n",
        "population=dict([('서울',407540),('부산',3320276),('인천',2964820)])\n",
        "print(population)\n",
        "\n",
        "#105\n",
        "population={'서울':9407540,'부산':3320276,'인천':2964820}\n",
        "pnum=population['서울']\n",
        "print(f'2022년 기준 서울의 인구는{pnum:,d}명 입니다.')\n",
        "\n",
        "orddict={97:'a',98:'b',99:'c'}\n",
        "print(f'ASCII코드 97은 문자{orddict[97]}에 대응됩니다')\n",
        "\n",
        "ret=orddict[95]\n",
        "\n",
        "#106\n",
        "names={'marry':10999,'cris':2111,'Aimy':9778,'Tom':20245}\n",
        "ret1=names.get('cris')\n",
        "ret2=names.get('sams')\n",
        "\n",
        "ret1=names.get('cris',0)\n",
        "ret2=names.get('sams',0)\n",
        "print(f'ret1={ret1},ret2={ret2}')\n",
        "\n",
        "#107\n",
        "names={'mary':10999,'cris':2111,'Aimy':9778,'Tom':20245}\n",
        "nameList=list(names)\n",
        "print(nameList)\n"
      ]
    }
  ]
}