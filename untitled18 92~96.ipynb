{
  "nbformat": 4,
  "nbformat_minor": 0,
  "metadata": {
    "colab": {
      "provenance": [],
      "authorship_tag": "ABX9TyMfCBi7LORvORLL7+F1G0Bb",
      "include_colab_link": true
    },
    "kernelspec": {
      "name": "python3",
      "display_name": "Python 3"
    },
    "language_info": {
      "name": "python"
    }
  },
  "cells": [
    {
      "cell_type": "markdown",
      "metadata": {
        "id": "view-in-github",
        "colab_type": "text"
      },
      "source": [
        "<a href=\"https://colab.research.google.com/github/yanghyensik3955/Homework/blob/main/untitled17%2092~96.ipynb\" target=\"_parent\"><img src=\"https://colab.research.google.com/assets/colab-badge.svg\" alt=\"Open In Colab\"/></a>"
      ]
    },
    {
      "cell_type": "code",
      "execution_count": null,
      "metadata": {
        "id": "p0DC18qcUVsp"
      },
      "outputs": [],
      "source": [
        "#92\n",
        "strData='python'\n",
        "bytesData=b'python'\n",
        "print(strData[0]==bytesData[0])\n",
        "\n",
        "bytesData1=b'python'\n",
        "bytesData2=b'파이썬'\n",
        "\n",
        "bytesData='파이썬'.encode()\n",
        "print(bytesData)\n",
        "\n",
        "bytesData=bytes('사랑해요 python!','utf-8')\n",
        "print(bytesData)\n",
        "\n",
        "#93\n",
        "bytesData=bytes.fromhex('50 79 74 68 6f 6e f8 fa')\n",
        "print(bytesData)\n",
        "\n",
        "#94\n",
        "hexData = b'python/xf8/xfa',hex()\n",
        "print(hexData)\n",
        "\n",
        "hexData=b'python/xf8/xfa/x80'.hex('-')\n",
        "print(hexData)\n",
        "\n",
        "hexData=b'python/xf8/xfa/x80'.hex('-',2)\n",
        "print(hexData)\n",
        "\n",
        "#95\n",
        "bytesData=b'/xec/x82/xac/xeb/x9e/x91/xed/x95/xb4/xec/x9a/x94'\n",
        "strData=bytesData.decode()\n",
        "print(strData)\n",
        "\n",
        "bytesData=b'/xbb/xe7/xb6/xfb/xc7/xd8/xbf/xe4'\n",
        "strData=bytesData.decode()\n",
        "print(strData)\n",
        "\n",
        "bytesData=b'/xbb/xe7/xb6/xfb/xc7/xd8/xbf/xe4'\n",
        "strData=bytesData.decode('cp949')\n",
        "print(strData)\n",
        "\n",
        "#96\n",
        "bytesData=b'abcdef'\n",
        "data=bytesData.replace(b'ab',b'AB')\n",
        "print(data)\n",
        "\n",
        "bytesData=b'abcdefabcdef'\n",
        "idx1=bytesData.find(b'e')\n",
        "idx2=bytesData.find(b'e',idx1+1)\n",
        "print(idx1,idx2)\n",
        "\n",
        "bytesData=b' abcdef  '\n",
        "bytesData=bytesData.strip()\n",
        "print(bytesData)\n",
        "\n"
      ]
    }
  ]
}
