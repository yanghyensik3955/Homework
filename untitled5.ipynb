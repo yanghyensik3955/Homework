{
  "nbformat": 4,
  "nbformat_minor": 0,
  "metadata": {
    "colab": {
      "provenance": [],
      "authorship_tag": "ABX9TyMcmIYLEpJFgvOqdoAC1zrk",
      "include_colab_link": true
    },
    "kernelspec": {
      "name": "python3",
      "display_name": "Python 3"
    },
    "language_info": {
      "name": "python"
    }
  },
  "cells": [
    {
      "cell_type": "markdown",
      "metadata": {
        "id": "view-in-github",
        "colab_type": "text"
      },
      "source": [
        "<a href=\"https://colab.research.google.com/github/yanghyensik3955/Homework/blob/main/untitled5.ipynb\" target=\"_parent\"><img src=\"https://colab.research.google.com/assets/colab-badge.svg\" alt=\"Open In Colab\"/></a>"
      ]
    },
    {
      "cell_type": "code",
      "execution_count": null,
      "metadata": {
        "id": "gOQAqqmhnb5v",
        "colab": {
          "base_uri": "https://localhost:8080/",
          "height": 219
        },
        "outputId": "efdb8e70-5c91-406e-d5e6-aa60990f218c"
      },
      "outputs": [
        {
          "output_type": "error",
          "ename": "NameError",
          "evalue": "name '초한지' is not defined",
          "traceback": [
            "\u001b[0;31m---------------------------------------------------------------------------\u001b[0m",
            "\u001b[0;31mNameError\u001b[0m                                 Traceback (most recent call last)",
            "\u001b[0;32m/tmp/ipython-input-1221528278.py\u001b[0m in \u001b[0;36m<cell line: 0>\u001b[0;34m()\u001b[0m\n\u001b[1;32m      9\u001b[0m \u001b[0mis_badman\u001b[0m\u001b[0;34m:\u001b[0m\u001b[0mbool\u001b[0m\u001b[0;34m=\u001b[0m \u001b[0;32mFalse\u001b[0m\u001b[0;34m\u001b[0m\u001b[0;34m\u001b[0m\u001b[0m\n\u001b[1;32m     10\u001b[0m \u001b[0;34m\u001b[0m\u001b[0m\n\u001b[0;32m---> 11\u001b[0;31m \u001b[0mbooklist\u001b[0m\u001b[0;34m:\u001b[0m \u001b[0mlist\u001b[0m\u001b[0;34m[\u001b[0m\u001b[0mstr\u001b[0m\u001b[0;34m]\u001b[0m\u001b[0;34m=\u001b[0m\u001b[0;34m[\u001b[0m\u001b[0;34m'삼국지'\u001b[0m\u001b[0;34m,\u001b[0m\u001b[0;34m'수호지'\u001b[0m\u001b[0;34m,\u001b[0m\u001b[0m초한지\u001b[0m\u001b[0;34m]\u001b[0m\u001b[0;34m\u001b[0m\u001b[0;34m\u001b[0m\u001b[0m\n\u001b[0m\u001b[1;32m     12\u001b[0m \u001b[0;34m\u001b[0m\u001b[0m\n\u001b[1;32m     13\u001b[0m \u001b[0misland\u001b[0m\u001b[0;34m:\u001b[0m\u001b[0mtuple\u001b[0m\u001b[0;34m[\u001b[0m\u001b[0mstr\u001b[0m\u001b[0;34m,\u001b[0m\u001b[0mfloat\u001b[0m\u001b[0;34m,\u001b[0m\u001b[0mfloat\u001b[0m\u001b[0;34m]\u001b[0m\u001b[0;34m=\u001b[0m\u001b[0;34m(\u001b[0m\u001b[0;34m'독도'\u001b[0m\u001b[0;34m,\u001b[0m\u001b[0;36m131\u001b[0m\u001b[0;34m,\u001b[0m\u001b[0;36m52\u001b[0m\u001b[0;34m,\u001b[0m\u001b[0;36m37\u001b[0m\u001b[0;34m,\u001b[0m\u001b[0;36m14\u001b[0m\u001b[0;34m)\u001b[0m\u001b[0;34m\u001b[0m\u001b[0;34m\u001b[0m\u001b[0m\n",
            "\u001b[0;31mNameError\u001b[0m: name '초한지' is not defined"
          ]
        }
      ],
      "source": [
        "name='홍길동'\n",
        "age=17\n",
        "weight=70.7\n",
        "is_badman= False\n",
        "\n",
        "name:str='홍길동'\n",
        "age:int=17\n",
        "weight:float=70.7\n",
        "is_badman:bool= False\n",
        "\n",
        "booklist: list[str]=['삼국지','수호지',초한지]\n",
        "\n",
        "island:tuple[str,float,float]=('독도',131,52,37,14)\n",
        "\n",
        "top4_familiyname:dict[str,int]={'김씨':123456, '나씨':345811,'박씨':963123,'이씨':865909}\n",
        "\n",
        "fruits:set[str]={'사과','배','수박','참외','딸기'}\n",
        "\n",
        "print(_annotations_)\n",
        "\n",
        "fruit:set[str]={'사과','배','수박','참외','딸기'}\n",
        "fruit={1,2,3,4,5}\n",
        "print(fruits)\n",
        "\n",
        "#{1,2,3,4,5}\n",
        "\n",
        "userInput=input()\n",
        "print('사용자가 입력한 값은<'+userInput+'>입니다.')\n",
        "\n",
        "#10 -사용자가 입력한 값\n",
        "#사용자가 입력한 값은 <10>입니다\n",
        "\n",
        "userInput=input('값을 입력하세요')\n",
        "print('사용자가 입력한 값은<'+userInput+'>입니다.')\n",
        "\n",
        "#값을 입력하세요:yes\n",
        "#사용자가 입력한 값은 <yes>입니다\n",
        "\n"
      ]
    }
  ]
}