{
  "nbformat": 4,
  "nbformat_minor": 0,
  "metadata": {
    "colab": {
      "provenance": [],
      "authorship_tag": "ABX9TyOXE/NE7Y5dOBD9yU5Injji",
      "include_colab_link": true
    },
    "kernelspec": {
      "name": "python3",
      "display_name": "Python 3"
    },
    "language_info": {
      "name": "python"
    }
  },
  "cells": [
    {
      "cell_type": "markdown",
      "metadata": {
        "id": "view-in-github",
        "colab_type": "text"
      },
      "source": [
        "<a href=\"https://colab.research.google.com/github/yanghyensik3955/Homework/blob/main/untitled8%2021~25%20.ipynb\" target=\"_parent\"><img src=\"https://colab.research.google.com/assets/colab-badge.svg\" alt=\"Open In Colab\"/></a>"
      ]
    },
    {
      "cell_type": "code",
      "execution_count": null,
      "metadata": {
        "id": "PE1RQV3OErU_"
      },
      "outputs": [],
      "source": [
        "#21\n",
        "x=2\n",
        "y=4\n",
        "print(x*y)\n",
        "print(x/y)\n",
        "print(x**y)\n",
        "#8, 0.5, 16\n",
        "\n",
        "x=5\n",
        "y=2\n",
        "print(x//y)               #5를 2로 나눈 몫\n",
        "print(x%y)                #5를 2로 나눈 나머지\n",
        "#2, 1\n",
        "\n",
        "#22\n",
        "a=a+1\n",
        "a+=1\n",
        "a-=1\n",
        "a-= #a에서 1을 뺸 결과를 a에 할당\n",
        "a*=2 #a와 2를 곱한 결과를 a에 할당\n",
        "a/=2 #a에서 2를 나눈 결과를 a에 할당\n",
        "\n",
        "#23\n",
        "x=1;y=2\n",
        "strData1='hello';strdata2='python'\n",
        "print(x==y)\n",
        "print(x!=y)\n",
        "print(strdata1==strdata2)\n",
        "print(strdata2=='python')\n",
        "print(strdata1<strdata2)\n",
        "#false, true, false, true, true\n",
        "\n",
        "#24\n",
        "x=1:y=2\n",
        "strData1='hello';strData2='python'\n",
        "flag1=x==y                #false\n",
        "flag2=x<y                 #true\n",
        "flag3=strData             #true\n",
        "flag4=strdata1>strdata2   #false\n",
        "\n",
        "print(flag1 and flag2)\n",
        "print(flag2 and flag3)\n",
        "print(flag3 or flag4)\n",
        "print(flag1 or flag4)\n",
        "print(not flag1)\n",
        "print(not flag2)\n",
        "#false, true,true, false,true, false\n",
        "\n",
        "#25\n",
        "bit1=0x61;bit2=0x62\n",
        "print(hex(bit1&bit2))\n",
        "print(hex(bit1|bit2))\n",
        "print(hex(bit1^bit2))\n",
        "print(hex(bit1>>1))\n",
        "print(hex(bit1<<2))\n",
        "\n",
        "byte1=0x6b\n",
        "\n",
        "#하위 4비트 추출\n",
        "lower_4bit=byte1&0x0f\n",
        "\n",
        "#상위 4비트 추출\n",
        "upper_4bit=(byte1>>4)&0x0f\n",
        "print(hex(lower_4bit))\n",
        "print(hex(upper_4bit))\n",
        "\n",
        "\n"
      ]
    }
  ]
}