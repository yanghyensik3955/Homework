{
  "nbformat": 4,
  "nbformat_minor": 0,
  "metadata": {
    "colab": {
      "provenance": [],
      "authorship_tag": "ABX9TyOcNDK9GBCj3GcnM2KBRMHY",
      "include_colab_link": true
    },
    "kernelspec": {
      "name": "python3",
      "display_name": "Python 3"
    },
    "language_info": {
      "name": "python"
    }
  },
  "cells": [
    {
      "cell_type": "markdown",
      "metadata": {
        "id": "view-in-github",
        "colab_type": "text"
      },
      "source": [
        "<a href=\"https://colab.research.google.com/github/yanghyensik3955/Homework/blob/main/untitled11%2041~44%20.ipynb\" target=\"_parent\"><img src=\"https://colab.research.google.com/assets/colab-badge.svg\" alt=\"Open In Colab\"/></a>"
      ]
    },
    {
      "cell_type": "code",
      "execution_count": null,
      "metadata": {
        "id": "df7EppYY19mg"
      },
      "outputs": [],
      "source": [
        "#41\n",
        "map(func, iterable)\n",
        "\n",
        "def myfunc(x):\n",
        "  return x**2\n",
        "\n",
        "results=map(lambda x;x**2,range(4))\n",
        "print(list(results))\n",
        "#[0,1,4,9]\n",
        "\n",
        "x=[1,2,3,4,5]\n",
        "y=[10,9,8,7,6]\n",
        "ret=map(lambda x,y:x**2+y,x,y)\n",
        "print(list(ret))\n",
        "[11,13,17,23,31]\n",
        "\n",
        "#42\n",
        "male=['슈퍼맨','심봉사','로미오','이몽룡','마루치']\n",
        "female=['원더우먼','뺑덕어멈','줄리엣','성춘향','아라치']\n",
        "couples=zip(male,female)\n",
        "for couple in couples:\n",
        "  print(couple)\n",
        "\n",
        "male=['슈퍼맨','심봉사','로미오']\n",
        "female=['원더우먼','뺑덕어멈','줄리엣','성춘향','아라치']\n",
        "for couple in zip(male,female):\n",
        "  print(couple)\n",
        "\n",
        "#43\n",
        "listData=[0,1,2,3,4]\n",
        "print(all(listData))\n",
        "print(any(listData))\n",
        "#False, True\n",
        "\n",
        "tupleData= (0,false,'',[],(),{},None)\n",
        "print(all(tupleData))\n",
        "print(any(tupleData))\n",
        "#false, false\n",
        "\n",
        "\n",
        "#44\n",
        "listdata=[42,1,39,27,44,8]\n",
        "ret1=sorted(listData)\n",
        "ret2=sorted(listData, reverse=True)\n",
        "print(ret1)\n",
        "print(ret2)\n",
        "print(listData)\n",
        "\n",
        "tupleData=('사과','배','오렌지','수박','참외')\n",
        "ret=sorted(tupleData)\n",
        "print(ret)\n",
        "\n",
        "strData='I love python!'\n",
        "ret=sorted(strData)\n",
        "print(ret)\n",
        "\n",
        "population= {'김씨':2834,'이씨':2283,'박씨'1889}\n",
        "ret=sorted(population)\n",
        "print(ret)\n",
        "#['김씨','박씨','이씨']"
      ]
    }
  ]
}