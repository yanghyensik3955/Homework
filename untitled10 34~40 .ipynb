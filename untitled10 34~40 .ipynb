{
  "nbformat": 4,
  "nbformat_minor": 0,
  "metadata": {
    "colab": {
      "provenance": [],
      "authorship_tag": "ABX9TyNGOZzZySqkdVS5J2KLgsKB",
      "include_colab_link": true
    },
    "kernelspec": {
      "name": "python3",
      "display_name": "Python 3"
    },
    "language_info": {
      "name": "python"
    }
  },
  "cells": [
    {
      "cell_type": "markdown",
      "metadata": {
        "id": "view-in-github",
        "colab_type": "text"
      },
      "source": [
        "<a href=\"https://colab.research.google.com/github/yanghyensik3955/Homework/blob/main/untitled10%2034~40%20.ipynb\" target=\"_parent\"><img src=\"https://colab.research.google.com/assets/colab-badge.svg\" alt=\"Open In Colab\"/></a>"
      ]
    },
    {
      "cell_type": "code",
      "execution_count": null,
      "metadata": {
        "colab": {
          "base_uri": "https://localhost:8080/",
          "height": 110
        },
        "id": "-0C11JvauOq-",
        "outputId": "e832c5c4-f023-4e4b-d4c2-2d442d44fcdf"
      },
      "outputs": [
        {
          "output_type": "error",
          "ename": "SyntaxError",
          "evalue": "invalid syntax (ipython-input-873137943.py, line 7)",
          "traceback": [
            "\u001b[0;36m  File \u001b[0;32m\"/tmp/ipython-input-873137943.py\"\u001b[0;36m, line \u001b[0;32m7\u001b[0m\n\u001b[0;31m    iterableData4{97:'a',98:'b'}\u001b[0m\n\u001b[0m                 ^\u001b[0m\n\u001b[0;31mSyntaxError\u001b[0m\u001b[0;31m:\u001b[0m invalid syntax\n"
          ]
        }
      ],
      "source": [
        "#34\n",
        "#반복가능자료 예시\n",
        "iterableData1=[1,2,3,4,5]\n",
        "iterableData2=('a','b','c')\n",
        "iterableData3='I love python!'\n",
        "iterableData6=range(10)\n",
        "iterableData4{97:'a',98:'b'}\n",
        "iterableData5{'사과','배','오렌지'}\n",
        "\n",
        "#35\n",
        "listdata=[1,2,3,4]\n",
        "iterator1=listdata._iter_()\n",
        "print(type(iterator1))\n",
        "#<class'list_iterator'>\n",
        "\n",
        "listdata=[1,2,3,4]\n",
        "iterator2=iter(listdata)\n",
        "print(type(iterator2))\n",
        "#<class'list_iterator'>\n",
        "\n",
        "print(next(iterator2))\n",
        "print(next(iterator2))\n",
        "print(next(iterator2))\n",
        "print(next(iterator2))\n",
        "print(next(iterator2))\n",
        "#stopIteration\n",
        "\n",
        "#36\n",
        "class myrange:\n",
        " def_init_(self,n):\n",
        "  self.maxn=n\n",
        "  self.current=0\n",
        "\n",
        "def_iter_(self):\n",
        "  return Self\n",
        "def_next_(self):\n",
        "  if self.current>=self.maxn:\n",
        "    raise StopIteration\n",
        "  else:\n",
        "    ret=self.current\n",
        "    self.current+=1\n",
        "    return return\n",
        "\n",
        "intList=myrange(5)\n",
        "for i in intlist:\n",
        "  print(i,end='')\n",
        "  #0,1,2,3,4\n",
        "\n",
        "  #37\n",
        "  def myrange(n):\n",
        "    current=0\n",
        "    while current<n:\n",
        "      yield current\n",
        "      current+=1\n",
        "\n",
        "  #제네레이터 객체 생성\n",
        "  intList=myrange(5)\n",
        "  for i in intlist:\n",
        "    print(i,end='')\n",
        "  #0,1,2,3,4\n",
        "\n",
        "  #38\n",
        "  def getprime(x):\n",
        "    if x==2:\n",
        "      return True\n",
        "    if x<=1 or x%2==0:\n",
        "      return False\n",
        "\n",
        "    for i in range(3,int(x**(1/2))+1,2):\n",
        "      if x%i == 0:\n",
        "        return False\n",
        "      else:\n",
        "        return True\n",
        "\n",
        "  intlist=[x for x in range(1,101)]\n",
        "  ret=filter(getprime,intList)\n",
        "  for p in ret:\n",
        "    print(p,end='')\n",
        "\n",
        "    #39\n",
        "\n",
        "    numlist=[1,3,5,7,9]\n",
        "    ret=sum(numlist)\n",
        "    print(ret)\n",
        "    #25\n",
        "\n",
        "\n",
        "ret=sum(numlist,10)\n",
        "print(ret)\n",
        "#35\n",
        "\n",
        "randomlist = [1,2,'SMASUNG','LG']\n",
        "ret=sum(randomList)\n",
        "\n",
        "#40\n",
        "\n",
        "tuple = (1,2,3,4,5)\n",
        "print(list(tupleData))\n",
        "[1,2,3,4,5]\n",
        "\n",
        "strdata='i love python!'\n",
        "print(list(strdata))\n",
        "\n",
        "def myrange(n):\n",
        "  current=0\n",
        "  while current<n:\n",
        "    yield current\n",
        "    current +=1\n",
        "\n",
        "intList=myrange(5)\n",
        "print(list(intlist))\n",
        "[0,1,2,3,4]"
      ]
    }
  ]
}