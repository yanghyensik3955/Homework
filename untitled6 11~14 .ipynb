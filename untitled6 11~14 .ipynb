{
  "nbformat": 4,
  "nbformat_minor": 0,
  "metadata": {
    "colab": {
      "provenance": [],
      "authorship_tag": "ABX9TyPWGNUdeHtKXcV4tvGpF9i1",
      "include_colab_link": true
    },
    "kernelspec": {
      "name": "python3",
      "display_name": "Python 3"
    },
    "language_info": {
      "name": "python"
    }
  },
  "cells": [
    {
      "cell_type": "markdown",
      "metadata": {
        "id": "view-in-github",
        "colab_type": "text"
      },
      "source": [
        "<a href=\"https://colab.research.google.com/github/yanghyensik3955/Homework/blob/main/untitled6%2011~14%20.ipynb\" target=\"_parent\"><img src=\"https://colab.research.google.com/assets/colab-badge.svg\" alt=\"Open In Colab\"/></a>"
      ]
    },
    {
      "cell_type": "code",
      "execution_count": null,
      "metadata": {
        "id": "j7XkQF2RxXSK"
      },
      "outputs": [],
      "source": [
        "#11:\n",
        "userInput=input()\n",
        "print('사용자가 입력한 값은<'+userinput+'>입니다.')\n",
        "#10 -사용자가 입력한값\n",
        "#사용자가 입력한 값은<10>입니다.\n",
        "\n",
        "userinput=input('값을 입력하세요')\n",
        "print('사용자가 입력한 값은<'+userinput+'>입니다')\n",
        "#값을 입력하세요:yes\n",
        "#사용자가 입력한 값은 <yes>입니다.\n",
        "\n",
        "\n",
        "\n",
        "\n",
        "\n",
        "#12:\n",
        "listData=['a','b','c']\n",
        "if 'a' in listdata:\n",
        "  print('\"a\"가 listdata에 요소로 존재합니다.')\n",
        "else:\n",
        "  print('\"a\"가 listdata에 요소로 존재하지 않습니다.')\n",
        "#a가 listdata에 요소 존재\n",
        "\n",
        "listdata=['a','b','c']\n",
        "if'a'in listdata:print('\"a\"가 listdata에 요소로 존재합니다.')\n",
        "#('\"a\"가 listdata에 요소로 존재합니다.')\n",
        "\n",
        "   listdata=['a','b','c']\n",
        "if 'a' in listdata:\n",
        "  print('\"a\"가 listdata에 요소로 존재합니다.')\n",
        "else:\n",
        "  print('\"a\"가 listdata에 요소로 존재하지 않습니다.')\n",
        "#listdata=['a','b','c']\n",
        "\n",
        "listdata=['a','b','c']\n",
        "if 'a' in listdata:\n",
        "  print('\"a\"가 listdata에 요소로 존재합니다.')\n",
        "   print('프로그램을 종료합니다.')\n",
        "else:\n",
        "  print('\"a\"가 listdata에 요소로 존재하지 않습니다.')\n",
        "#print('프로그램을 종료합니다.')\n",
        "\n",
        "\n",
        "\n",
        "\n",
        "\n",
        "\n",
        "#13\n",
        "val=none\n",
        "flag=true\n",
        "if flag:\n",
        "  val=[1,2,3,4,5]\n",
        "else:\n",
        "  val='안녕하세요 파이썬!'\n",
        "\n",
        "\n",
        "#14\n",
        "flag1=true\n",
        "flag2=false\n",
        "print(flag1==1)\n",
        "print(flag2 !=0)\n",
        "#true false\n",
        "\n",
        "while True:\n",
        "  실행코드\n",
        "\n",
        "while True:\n",
        "  실행코드\n",
        "  if 조건 == True:\n",
        "    break\n"
      ]
    }
  ]
}