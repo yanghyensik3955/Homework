{
  "nbformat": 4,
  "nbformat_minor": 0,
  "metadata": {
    "colab": {
      "provenance": [],
      "authorship_tag": "ABX9TyMxiAjYyChJEXtiKQYalj+e",
      "include_colab_link": true
    },
    "kernelspec": {
      "name": "python3",
      "display_name": "Python 3"
    },
    "language_info": {
      "name": "python"
    }
  },
  "cells": [
    {
      "cell_type": "markdown",
      "metadata": {
        "id": "view-in-github",
        "colab_type": "text"
      },
      "source": [
        "<a href=\"https://colab.research.google.com/github/yanghyensik3955/Homework/blob/main/untitled15%2071~80.ipynb\" target=\"_parent\"><img src=\"https://colab.research.google.com/assets/colab-badge.svg\" alt=\"Open In Colab\"/></a>"
      ]
    },
    {
      "cell_type": "code",
      "execution_count": null,
      "metadata": {
        "colab": {
          "base_uri": "https://localhost:8080/"
        },
        "id": "D-laFeBKoWM1",
        "outputId": "4cf35d67-211b-4a41-f7bf-bca1e54ee353"
      },
      "outputs": [
        {
          "name": "stdout",
          "output_type": "stream",
          "text": [
            "안녕하세요\n",
            "작은 따옴표는 \"큰따옴표\"를 포함하는 문자열이 가능합니다\n",
            "안녕하세요\n",
            "큰따옴표 따옴표는 \"작은따음표\"를 포함하는 문자열이 가능합니다\n",
            "3중 작은 따옴표는 여러줄에 걸친 문자열이 가능합니다.\n",
            "3중 큰따움표 역시 여러 줄에 걸친 문자열이 가능합니다\n",
            "문자 1개를 입력하세요[끝내려면 엔터를 치세요]:\n"
          ]
        }
      ],
      "source": [
        "#71\n",
        "strData1='안녕하세요'\n",
        "strData2='작은 따옴표는 \"큰따옴표\"를 포함하는 문자열이 가능합니다'\n",
        "print(strData1)\n",
        "print(strData2)\n",
        "\n",
        "strData3='안녕하세요'\n",
        "strData4='큰따옴표 따옴표는 \"작은따음표\"를 포함하는 문자열이 가능합니다'\n",
        "print(strData3)\n",
        "print(strData4)\n",
        "\n",
        "strData5='''3중 작은 따옴표는 여러줄에 걸친 문자열이 가능합니다.'''\n",
        "print(strData5)\n",
        "\n",
        "strData6=\"\"\"3중 큰따움표 역시 여러 줄에 걸친 문자열이 가능합니다\"\"\"\n",
        "print(strData6)\n",
        "\n",
        "#72\n",
        "strData1='I love python'\n",
        "strData2=\"사랑해요 파이썬!\"\n",
        "strData3=\"\"\"A lot of things occur each day.\"\"\"\n",
        "\n",
        "#73\n",
        "while True:\n",
        "  ch = input('문자 1개를 입력하세요[끝내려면 엔터를 치세요]:')\n",
        "  if len(ch)==0:\n",
        "    break\n",
        "  ch = ch[0]\n",
        "  code=ord(ch)\n",
        "  print(f'-->문자\"{ch}\"의 코드값:{hex(code)}')\n",
        "\n",
        "  #74\n",
        "  while True:\n",
        "    code=input('0x로 시작하는 16진수 문자 코드값을 입력하세요[끝내려면 엔터를 치세요]:')\n",
        "    if len(code)==0:\n",
        "      break\n",
        "    unicode=int(code,16)\n",
        "    try:\n",
        "      ch=chr(unicode)\n",
        "      print(f'-->코드값:{code},문자:\"{ch}\"')\n",
        "    expect valueError:\n",
        "      print(f'코드값{code}에 해당하는 문자가 존재하지 않습니다')\n",
        "\n",
        "\n",
        "    #75\n",
        "    print('파이썬은 자바보다 쉽습니다./n그래서 나는 파이썬을 사랑합니다')\n",
        "\n",
        "    text='파이선은 자바보다 쉽습니다./<엔터키> 그래서 나는 파이썬을 사랑합니다'\n",
        "    print(text)\n",
        "\n",
        "    print('이스케이프 문자 \"//t\"는 탭을 의미합니다')\n",
        "\n",
        "   print('/'파이썬/'은 뱀의 한 종류입니다')\n",
        "\n",
        "\n",
        "   #76\n",
        "   title='원주율'\n",
        "   pi=3.141592\n",
        "   print(f'{title}의 근사값은 {pi}입니다')\n",
        "\n",
        "   print(f'{title}의 근사값은 {pi:2f}입니다')\n",
        "\n",
        "   city='서울'\n",
        "   population=8789911\n",
        "   print(f'{city}:{population:,d}명')\n",
        "\n",
        "    print(f'{city}:{population:,d}명')\n",
        "\n",
        "    #77\n",
        "    pi=3.141592\n",
        "    text='{}의 근사값은{}입니다.'.format('원주율',pi)\n",
        "    print(text)\n",
        "\n",
        "    print('{}의 근사값은 {:2f}입니다.'.format ('원주율',pi))\n",
        "\n",
        "    population=8789911\n",
        "    text='{}:{:,d}명'.format('서울',population)\n",
        "    print(text)\n",
        "\n",
        "    #78\n",
        "    sample='A lot of things occur each day,its/'s very dynamical every day.'\n",
        "    pos = sample.find('day')\n",
        "    print(pos)\n",
        "\n",
        "    spos=0\n",
        "    idx=0\n",
        "    count=1\n",
        "    while idx !=-1:\n",
        "      idx=sample.find('day',spos)\n",
        "      print(f'\"day\"가 발견된 [{count}]번쨰 인덱스{idx}')\n",
        "      spos=idx+1\n",
        "      count +=1\n",
        "\n",
        "    #79\n",
        "    strList=['Hello','오징어게임','파이썬 lover','안녕!','제3세계']\n",
        "\n",
        "    for text in strList:\n",
        "      print(f'\"{text}\"/t-->{text.isalpha()}')\n",
        "\n",
        "  #80\n",
        "  numbers=['1004','-1','3.14','IX','7/8','5^2','50%']\n",
        "\n",
        "  for number in numbers:\n",
        "    print(f'\"{number}\"/t-->{number.isdecimal()}')\n",
        "\n",
        " for number in numbers:\n",
        "   print(f'\"{number}\"/t-->{number.isdigit()}')\n",
        "\n",
        "for number in numbers:\n",
        "  print(f'\"{number}\"/t-->{number.isnumeric()}')\n"
      ]
    }
  ]
}