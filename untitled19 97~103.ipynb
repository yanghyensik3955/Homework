{
  "nbformat": 4,
  "nbformat_minor": 0,
  "metadata": {
    "colab": {
      "provenance": [],
      "authorship_tag": "ABX9TyM7YvO1I43pKww0ZxJHC878",
      "include_colab_link": true
    },
    "kernelspec": {
      "name": "python3",
      "display_name": "Python 3"
    },
    "language_info": {
      "name": "python"
    }
  },
  "cells": [
    {
      "cell_type": "markdown",
      "metadata": {
        "id": "view-in-github",
        "colab_type": "text"
      },
      "source": [
        "<a href=\"https://colab.research.google.com/github/yanghyensik3955/Homework/blob/main/untitled18%2097~103.ipynb\" target=\"_parent\"><img src=\"https://colab.research.google.com/assets/colab-badge.svg\" alt=\"Open In Colab\"/></a>"
      ]
    },
    {
      "cell_type": "code",
      "execution_count": null,
      "metadata": {
        "colab": {
          "base_uri": "https://localhost:8080/"
        },
        "id": "MYTDHz0GdDJ4",
        "outputId": "ded18dab-9c42-4a35-b98d-d9f6cd4c851e"
      },
      "outputs": [
        {
          "output_type": "stream",
          "name": "stdout",
          "text": [
            "{'배', '수박', '사과', '오렌지'}\n",
            "{'배', '수박', '사과', '오렌지'}\n"
          ]
        }
      ],
      "source": [
        "#97\n",
        "setData={'사과','배','사과','수박','오렌지'}\n",
        "print(setData)\n",
        "\n",
        "print(setData)\n",
        "\n",
        "strData='abcabccdef'\n",
        "setData=set(strData)\n",
        "print(setData)\n",
        "\n",
        "fruits=('사과','배','사과','수박','오렌지')\n",
        "setData=set(fruits)\n",
        "print(setData)\n",
        "\n",
        "#98\n",
        "set1=set('abradacabra')\n",
        "set2=ser('abbreviation')\n",
        "\n",
        "ret=set1|set2\n",
        "print(ret)\n",
        "\n",
        "ret=set1&set2\n",
        "print(ret)\n",
        "\n",
        "ret= set1^set2\n",
        "print(ret)\n",
        "\n",
        "ret=set1<=set2\n",
        "print(ret)\n",
        "\n",
        "#99\n",
        "fruits={'사과','배','오렌지','수박'}\n",
        "fruits.add('딸기')\n",
        "print(fruits)\n",
        "\n",
        "fruits.add('배')\n",
        "print(fruits)\n",
        "\n",
        "#100\n",
        "fruits={'사과','배','오렌지','수박'}\n",
        "fruits.remove('사과')\n",
        "print(fruits)\n",
        "\n",
        "fruits.remove('딸기')\n",
        "\n",
        "#101\n",
        "fruits={'사과','배','오렌지','수박'}\n",
        "fruits.discard('사과')\n",
        "print(fruits)\n",
        "fruits.discard('딸기')\n",
        "print(fruits)\n",
        "\n",
        "#102\n",
        "fruits={'사과','배','오렌지','수박'}\n",
        "choise=fruits.pop()\n",
        "print(f'++추출한요소:{choice}/n++fruits:{fruits}')\n",
        "\n",
        "for_in range(len(fruits)):\n",
        "  choise=fruits.pop()\n",
        "  print(f'++추출한요소:{choice}/n++fruits:{fruits}')\n",
        "choise=fruits.pop()\n",
        "\n",
        "#103\n",
        "set1=set('abradacabra')\n",
        "set2=set('arirangsong')\n",
        "set1&=set2\n",
        "set2.clear()\n",
        "print(f'set1={set1},set2={set2}')\n",
        "\n"
      ]
    }
  ]
}
