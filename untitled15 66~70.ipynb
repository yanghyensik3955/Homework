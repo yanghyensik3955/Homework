{
  "nbformat": 4,
  "nbformat_minor": 0,
  "metadata": {
    "colab": {
      "provenance": [],
      "authorship_tag": "ABX9TyMmI9rVkQCdddolliNJH2sg",
      "include_colab_link": true
    },
    "kernelspec": {
      "name": "python3",
      "display_name": "Python 3"
    },
    "language_info": {
      "name": "python"
    }
  },
  "cells": [
    {
      "cell_type": "markdown",
      "metadata": {
        "id": "view-in-github",
        "colab_type": "text"
      },
      "source": [
        "<a href=\"https://colab.research.google.com/github/yanghyensik3955/Homework/blob/main/untitled15%2066~70.ipynb\" target=\"_parent\"><img src=\"https://colab.research.google.com/assets/colab-badge.svg\" alt=\"Open In Colab\"/></a>"
      ]
    },
    {
      "cell_type": "code",
      "execution_count": null,
      "metadata": {
        "collapsed": true,
        "id": "CfIQos0nu-lZ"
      },
      "outputs": [],
      "source": [
        "#66\n",
        "nameList=['marry','sams','aemy','tom','michale','Bob','kelly']\n",
        "nameList.sort()\n",
        "print(nameList)\n",
        "#['marry','sams','aemy','tom','michale','Bob','kelly']\n",
        "\n",
        "nameList=['marry','sams','aemy','tom','michale','Bob','kelly']\n",
        "nameList.sort(reverse=True)\n",
        "print(nameList)\n",
        "#nameList=['marry','sams','aemy','tom','michale','Bob','kelly']\n",
        "\n",
        "#67\n",
        "import random\n",
        "numList=list(range(1,11))\n",
        "random.shuffle(numList)\n",
        "print(numList)\n",
        "\n",
        "numList=list(range(1,11))\n",
        "copied=numList.copy()\n",
        "random.shuffle(copied)\n",
        "print(f'numLIst:{numList}')\n",
        "print(f'copied:{copied}')\n",
        "\n",
        "#68\n",
        "mystack=()\n",
        "\n",
        "def putData(data):\n",
        "  mystack.append(data)\n",
        "\n",
        "def popData():\n",
        "  if len(mystack)==0:\n",
        "    return None\n",
        "  return mystack.pop()\n",
        "\n",
        "putData('사과')\n",
        "putData([1,2,3])\n",
        "putData(3.141592)\n",
        "print(f'스택상태:{mystack}')\n",
        "\n",
        "ret=popData()\n",
        "while ret!=None:\n",
        "  print(f'스택에서 데이터 추출:{ret}')\n",
        "  print(f'스택상태:{mystack}')\n",
        "  print('----------')\n",
        "  ret=popData()\n",
        "\n",
        "  #69\n",
        "  import collections\n",
        "  myqueue=collections.deque([])\n",
        "\n",
        "  def putData(data):\n",
        "    myqueue.append(data)\n",
        "\n",
        "  def popData():\n",
        "    if len(myqueue)==0:\n",
        "      return None\n",
        "    return myqueue.popleft()\n",
        "\n",
        "    putData('사과')\n",
        "    putData([1,2,3])\n",
        "    putData(3.141592)\n",
        "    print(f'큐상태:{myqueue}')\n",
        "\n",
        "    ret=popData()\n",
        "    while ret!=None:\n",
        "      (f'스택에서 데이터 추출:{ret}')\n",
        "      (f'큐상태:{myqueue}')\n",
        "      print('----------')\n",
        "      ret=popData()\n",
        "\n",
        " #70\n",
        "tupleData=1, 'two','셋'\n",
        "print(tupleData)\n",
        "\n",
        "tupleData=(1,'two','셋')\n",
        "print(tupleData)\n",
        "\n",
        "x,y,z=tupleData\n",
        "print(f'x={x}, y={y}, z={z}')\n",
        "\n",
        "tupleData=(0,1,2,3,4)\n",
        "tupleData[3]='Three'\n",
        "\n"
      ]
    }
  ]
}