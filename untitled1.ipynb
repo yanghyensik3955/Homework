{
  "nbformat": 4,
  "nbformat_minor": 0,
  "metadata": {
    "colab": {
      "provenance": [],
      "authorship_tag": "ABX9TyOgRIn1Roaqg/cDP2PtlMM1",
      "include_colab_link": true
    },
    "kernelspec": {
      "name": "python3",
      "display_name": "Python 3"
    },
    "language_info": {
      "name": "python"
    }
  },
  "cells": [
    {
      "cell_type": "markdown",
      "metadata": {
        "id": "view-in-github",
        "colab_type": "text"
      },
      "source": [
        "<a href=\"https://colab.research.google.com/github/yanghyensik3955/Homework/blob/main/untitled1.ipynb\" target=\"_parent\"><img src=\"https://colab.research.google.com/assets/colab-badge.svg\" alt=\"Open In Colab\"/></a>"
      ]
    },
    {
      "cell_type": "code",
      "execution_count": null,
      "metadata": {
        "colab": {
          "base_uri": "https://localhost:8080/"
        },
        "id": "jIMVsatJfEtR",
        "outputId": "c2c53ae1-e68f-4669-bfab-94dab5a8b631"
      },
      "outputs": [
        {
          "output_type": "stream",
          "name": "stdout",
          "text": [
            "6\n",
            "Result= 55\n"
          ]
        }
      ],
      "source": [
        "_myname = 'samsjang'\n",
        "my_name = '홍길동'\n",
        "MYName3 = 'Hong gil-dong'\n",
        "country= '대한민국'\n",
        "\n",
        "counter = 1\n",
        "counter = 2                    #counter와는 다른 변수임\n",
        "\n",
        "intData = 1\n",
        "pi = 3.14\n",
        "\n",
        "flag = True\n",
        "ch='x'\n",
        "strData='사랑해요 파이썬'\n",
        "\n",
        "a=1    #a에 1을 할당\n",
        "b=5    #b에 5를할당\n",
        "print(a+b) #a+b의 값을 출력\n",
        "\n",
        "comment='Result='\n",
        "#삼중 따옴표로 특정 영역 주석 처리 예시\n",
        "\"\"\"a=1\n",
        "b=100\n",
        "prit(a+b)\"\"\"\n",
        "a=5\n",
        "b=50\n",
        "print(comment,a+b)"
      ]
    }
  ]
}