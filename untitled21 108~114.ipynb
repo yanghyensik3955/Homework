{
  "nbformat": 4,
  "nbformat_minor": 0,
  "metadata": {
    "colab": {
      "provenance": [],
      "authorship_tag": "ABX9TyNyK69jm3iR5ML6XvjojfpN",
      "include_colab_link": true
    },
    "kernelspec": {
      "name": "python3",
      "display_name": "Python 3"
    },
    "language_info": {
      "name": "python"
    }
  },
  "cells": [
    {
      "cell_type": "markdown",
      "metadata": {
        "id": "view-in-github",
        "colab_type": "text"
      },
      "source": [
        "<a href=\"https://colab.research.google.com/github/yanghyensik3955/Homework/blob/main/untitled21%20108~114.ipynb\" target=\"_parent\"><img src=\"https://colab.research.google.com/assets/colab-badge.svg\" alt=\"Open In Colab\"/></a>"
      ]
    },
    {
      "cell_type": "code",
      "execution_count": null,
      "metadata": {
        "id": "EBapJPmSl_fI"
      },
      "outputs": [],
      "source": [
        "#108\n",
        "nameList=['marry','cris','aimy','tom','bob']\n",
        "population=[10999,2111,9778,20245,27115]\n",
        "names={}\n",
        "for k,v in zip(nameList,population):\n",
        "  names[k]=v\n",
        "  print(names)\n",
        "\n",
        "names['mary']=20000\n",
        "print(names)\n",
        "\n",
        "#109\n",
        "names={'marry':10999,'cris':2111,'Aimy':9778}\n",
        "population=names.ssetdefault('sams')\n",
        "print(f'names:{names}/npopulation:{population}')\n",
        "\n",
        "population=names.setdefault('sams',100)\n",
        "print(f'names:{names}/npopulation:{population}')\n",
        "\n",
        "popualtion=names.setdefault('Tom',1004)\n",
        "print(f'names:{names}/npopulation:{population}')\n",
        "\n",
        "#110\n",
        "names={'marry':10999,'cris':2111,'Aimy':9778,'Tom':20245}\n",
        "del names['Mary']\n",
        "print(names)\n",
        "\n",
        "del names['sams']\n",
        "\n",
        "#111\n",
        "names={'marry':10999,'cris':2111,'Aimy':9778,'Tom':20245}\n",
        "name = input('이름을 입력하세요')\n",
        "if name in names:\n",
        "  print(f'이름이<{name}>인 출생아수는 <{names[name]:,d}')\n",
        "else:\n",
        "  print(f'딕셔너리 names에 <{name}>인 이름이 존재하지않습니다')\n",
        "\n",
        "#112\n",
        "frequency={}\n",
        "while True:\n",
        "  c=input('알파벳 1자를 입력하세요[끝내려면 엔터를 치세요]:')\n",
        "  if c==\":\n",
        "    break\n",
        "  if c not in frequency:\n",
        "    frequency[c]=1\n",
        "  else:\n",
        "    frequency[c]+=1\n",
        "  print(frequency)\n",
        "\n",
        "  #113\n",
        "  greats={'유비':89,'관우':95,'장비':91,'조운':94}\n",
        "  for name in iter(greats):\n",
        "    print(name)\n",
        "\n",
        "#114\n",
        "greats={'유비':89,'관우':95,'장비':91,'조운':94}\n",
        "greats.clear()\n",
        "print(greats)\n",
        "\n",
        "greats={'유비':89,'관우':95,'장비':91,'조운':94}\n",
        "del great\n",
        "print(greats)"
      ]
    }
  ]
}