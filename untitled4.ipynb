{
  "nbformat": 4,
  "nbformat_minor": 0,
  "metadata": {
    "colab": {
      "provenance": [],
      "authorship_tag": "ABX9TyMSQx7GQim1dJ5oQ97iiARm",
      "include_colab_link": true
    },
    "kernelspec": {
      "name": "python3",
      "display_name": "Python 3"
    },
    "language_info": {
      "name": "python"
    }
  },
  "cells": [
    {
      "cell_type": "markdown",
      "metadata": {
        "id": "view-in-github",
        "colab_type": "text"
      },
      "source": [
        "<a href=\"https://colab.research.google.com/github/yanghyensik3955/Homework/blob/main/untitled4.ipynb\" target=\"_parent\"><img src=\"https://colab.research.google.com/assets/colab-badge.svg\" alt=\"Open In Colab\"/></a>"
      ]
    },
    {
      "cell_type": "code",
      "execution_count": null,
      "metadata": {
        "id": "Ha_1l21xgjwk"
      },
      "outputs": [],
      "source": [
        "strData='i love python!'\n",
        "print(len(strData))\n",
        "#14\n",
        "\n",
        "listData=[1,2,3,4,5]\n",
        "print(len(listData))\n",
        "#5\n",
        "\n",
        "tupleData=('a','bc','def')\n",
        "print(len(tupleData))\n",
        "#3\n",
        "\n",
        "setData={'cup','shoes','shirts','pants'}\n",
        "print(len(setData))\n",
        "#4\n",
        "\n",
        "dictData={1:True,0:False}\n",
        "print(len(dictData))\n",
        "#2\n",
        "\n",
        "intData=1\n",
        "print(type(intData))\n",
        "#<class 'int'>\n",
        "\n",
        "strData='I love python!'\n",
        "print(type(strData))\n",
        "#<class 'str'>\n"
      ]
    }
  ]
}