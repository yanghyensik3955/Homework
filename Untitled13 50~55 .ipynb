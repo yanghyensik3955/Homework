{
  "nbformat": 4,
  "nbformat_minor": 0,
  "metadata": {
    "colab": {
      "provenance": [],
      "authorship_tag": "ABX9TyOGP8Y3sOlHZPxGnaejkoYP",
      "include_colab_link": true
    },
    "kernelspec": {
      "name": "python3",
      "display_name": "Python 3"
    },
    "language_info": {
      "name": "python"
    }
  },
  "cells": [
    {
      "cell_type": "markdown",
      "metadata": {
        "id": "view-in-github",
        "colab_type": "text"
      },
      "source": [
        "<a href=\"https://colab.research.google.com/github/yanghyensik3955/Homework/blob/main/Untitled13%2050~55%20.ipynb\" target=\"_parent\"><img src=\"https://colab.research.google.com/assets/colab-badge.svg\" alt=\"Open In Colab\"/></a>"
      ]
    },
    {
      "cell_type": "code",
      "execution_count": 1,
      "metadata": {
        "colab": {
          "base_uri": "https://localhost:8080/",
          "height": 110
        },
        "id": "X4bZD1j9qPzb",
        "outputId": "939da757-a880-4253-aa0f-0c3b2e8f0552"
      },
      "outputs": [
        {
          "output_type": "error",
          "ename": "SyntaxError",
          "evalue": "unterminated string literal (detected at line 72) (ipython-input-1287903005.py, line 72)",
          "traceback": [
            "\u001b[0;36m  File \u001b[0;32m\"/tmp/ipython-input-1287903005.py\"\u001b[0;36m, line \u001b[0;32m72\u001b[0m\n\u001b[0;31m    solarsys=['태양','수성','금성','지구','화성','목성','토성,'천왕성','해왕성']\u001b[0m\n\u001b[0m                                                          ^\u001b[0m\n\u001b[0;31mSyntaxError\u001b[0m\u001b[0;31m:\u001b[0m unterminated string literal (detected at line 72)\n"
          ]
        }
      ],
      "source": [
        "#50\n",
        "listData=[9.96,1.27,5.07,6.45,8.38,9.29,4.93,7.73,3.71,0.93]\n",
        "print(max(listData))\n",
        "print(min(listData))\n",
        "#9.96, 0.93\n",
        "\n",
        "strData='AlotofthingsoccurEachday'\n",
        "print(max(strData))\n",
        "print(min(strData))\n",
        "#Y,A\n",
        "\n",
        "strLIst=['jang','apple12','3sung','sam']\n",
        "print(max(strList))\n",
        "print(min(strList))\n",
        "#sam, 3sung\n",
        "\n",
        "list1=[1,2,3,'a','b','c']\n",
        "print(max(list1))\n",
        "#print(max(list1))\n",
        "\n",
        "#51\n",
        "lyrics='A lot of things occur each day! every day!'\n",
        "print(lyrics.count('o'))\n",
        "#3\n",
        "\n",
        "lyrics='A lot of things occur each day! every day!'\n",
        "print(lyrics.count(''))\n",
        "#8\n",
        "\n",
        "listData[1,6,1,4,8,4,12,1,0,9,9,7,4,3,6,7,3,2]\n",
        "print(listData.count(1))\n",
        "#3\n",
        "\n",
        "#52\n",
        "x in s\n",
        "x not in s\n",
        "\n",
        "lyrics='A lot of things occur each day! every day!'\n",
        "flag='things'in lyrics\n",
        "print(flag)\n",
        "#True\n",
        "\n",
        "lyrics='A lot of things occur each day! every day!'\n",
        "flag='today'not in lyrics\n",
        "print(flag)\n",
        "#True\n",
        "\n",
        "urList=['url1','ur13','ur13']\n",
        "if'ur14'in ur1List:\n",
        "  print('ur14가 urList의 요소로 존재합니다')\n",
        "else:\n",
        "  print('ur14가 urList의 요소로 존재하지 않습니다')\n",
        "#'ur14가 urList의 요소로 존재하지 않습니다'\n",
        "\n",
        "#53\n",
        "fruits=('사과','배','참외''수박','배','오렌지')\n",
        "pos=fruits.index('배')\n",
        "print(f'배는 {pos+1}번째 과일입니다')\n",
        "#배는 두번째 과일입니다\n",
        "\n",
        "fruits=('사과','배','참외','수박','배','오렌지')\n",
        "pos=fruits.index('배',3)\n",
        "print(f'배는 {pos+1}번째 과일입니다')\n",
        "#배는 5번째 과일입니다\n",
        "\n",
        "fruits=('사과','배','참외','수박','배','오렌지')\n",
        "pos=fruits.index('사과',3)\n",
        "print(f'사과는 {pos+1}번째 과일입니다')\n",
        "#pos = fruits.index('사과',3)\n",
        "\n",
        "#54\n",
        "solarsys=['태양','수성','금성','지구','화성','목성','토성,'천왕성','해왕성']\n",
        "for i,body inn enumerate(solarsys):\n",
        "  print(f:'태양계의{i}번째 천체:{body}')\n",
        "  #태양계의 0번째 천체:태양\n",
        "  #태양계의 1번째 천체:수성\n",
        "  #태양계의 2번째 천체:금성\n",
        "  #태양계의 3번째 천체:지구\n",
        "  #태양계의 4번째 천체:화성\n",
        "  #태양계의 5번째 천체:목성\n",
        "  #태양계의 6번째 천체:토성\n",
        "  #태양계의 7번째 천체:천왕성\n",
        "  #태양계의 8번째 천체:해왕성\n",
        "\n",
        "seasons=['봄','여름','가을','겨울']\n",
        "print(list(enumerate(seasons, start=1)))\n",
        "#(1,'봄'),(2,'여름'),(3,'가을'),(4,'겨울')\n",
        "\n",
        "#enumerate()의 구현한 제네레이터\n",
        "def myenumerate(iterable,start=0):\n",
        "  n=start\n",
        "  for item in iterable:\n",
        "          yield(n,item)\n",
        "          n+=1\n",
        "\n",
        "print(list(myenumerate(seasons,start=1)))\n",
        "#(1,'봄'),(2,'여름'),(3,'가을'),(4,'겨울')\n",
        "\n",
        "#55\n",
        "fruits=('사과','배','오렌지','수박')\n",
        "ret=reversed(fruits)\n",
        "print(list(ret))\n",
        "['수박','오렌지','배','사과']\n",
        "\n",
        "print(fruits)\n",
        "('사과','배','오렌지','수박')\n",
        "\n",
        "for i in reversed(range(1,6)):\n",
        "  print(i)\n",
        "  #5,4,3,2,1"
      ]
    }
  ]
}