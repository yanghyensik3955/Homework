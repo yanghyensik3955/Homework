{
  "nbformat": 4,
  "nbformat_minor": 0,
  "metadata": {
    "colab": {
      "provenance": [],
      "authorship_tag": "ABX9TyNxoSIMMlhXsalFfJhrOP2o",
      "include_colab_link": true
    },
    "kernelspec": {
      "name": "python3",
      "display_name": "Python 3"
    },
    "language_info": {
      "name": "python"
    }
  },
  "cells": [
    {
      "cell_type": "markdown",
      "metadata": {
        "id": "view-in-github",
        "colab_type": "text"
      },
      "source": [
        "<a href=\"https://colab.research.google.com/github/yanghyensik3955/Homework/blob/main/untitled3.ipynb\" target=\"_parent\"><img src=\"https://colab.research.google.com/assets/colab-badge.svg\" alt=\"Open In Colab\"/></a>"
      ]
    },
    {
      "cell_type": "code",
      "execution_count": null,
      "metadata": {
        "id": "uxGLZ2OGfN-n"
      },
      "outputs": [],
      "source": [
        "intData = 15   #정수데이터\n",
        "floatData = 2.5   #실수데이터\n",
        "complexData = 1+1J   #복소수데이터\n",
        "\n",
        "\n",
        "isTrue=True\n",
        "isfalse=false\n",
        "\n",
        "setData={1,2,3,4,5}\n",
        "\n",
        "dictData={0:False,1:True}\n",
        "\n",
        "print('안녕하세요 파이썬!')\n",
        "#안녕하세요 파이썬!\n",
        "\n",
        "hello ='안녕하세요 파이썬!'\n",
        "print(hello)\n",
        "#안녕하세요 파이썬!\n",
        "\n",
        "intData=1\n",
        "intData=2\n",
        "print(intData1+intData2)\n",
        "\n",
        "name='홍길동'\n",
        "phone='010-1234-5678'\n",
        "print('이름:',name,'핸드폰:',phone)\n",
        "#이름:홍길동 핸드폰:010-1234-5678\n",
        "\n",
        "print('#',end=''\n",
        "print('#'*5)\n",
        "######\n",
        "\n",
        "print(name,phone,sep=';')\n",
        "#홍길동:010-1234-5678"
      ]
    }
  ]
}