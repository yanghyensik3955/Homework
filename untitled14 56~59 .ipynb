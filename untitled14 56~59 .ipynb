{
  "nbformat": 4,
  "nbformat_minor": 0,
  "metadata": {
    "colab": {
      "provenance": [],
      "authorship_tag": "ABX9TyMNz4W8HfXD3J1+ezDvXWuC",
      "include_colab_link": true
    },
    "kernelspec": {
      "name": "python3",
      "display_name": "Python 3"
    },
    "language_info": {
      "name": "python"
    }
  },
  "cells": [
    {
      "cell_type": "markdown",
      "metadata": {
        "id": "view-in-github",
        "colab_type": "text"
      },
      "source": [
        "<a href=\"https://colab.research.google.com/github/yanghyensik3955/Homework/blob/main/untitled14%2056~59%20.ipynb\" target=\"_parent\"><img src=\"https://colab.research.google.com/assets/colab-badge.svg\" alt=\"Open In Colab\"/></a>"
      ]
    },
    {
      "cell_type": "code",
      "execution_count": null,
      "metadata": {
        "id": "VACZjKtlhzB2"
      },
      "outputs": [],
      "source": [
        "#56\n",
        "solarsys=['태양','수성','금성','지구','화성','목성','토성','천왕성','해왕성']\n",
        "solarsys[3]='earth'\n",
        "print(solarsys)\n",
        "#['태양','수성','금성','Earth','화성','목성','토성','천왕성','해왕성'\n",
        "\n",
        "solasys_ko=['태양','수성','금성','지구','화성','목성','토성','천왕성','해왕성']\n",
        "solarsys_en=['sun','mercury','venus','earth','mars','jupiter','saturn','uranus','naptune']\n",
        "\n",
        "for i in range(len(solarsys_ko)):\n",
        "  solarsys_ko[i]=solarsys_en[i]\n",
        "\n",
        "print(solarsys_ko)\n",
        "#['sun','mercury','venus','earth','mars','jupiter','saturn','uranus','naptune']\n",
        "\n",
        "#57\n",
        "fruits=['사과','배','오렌지','수박','참외']\n",
        "del fruits[1]\n",
        "print(fruits)\n",
        "del fruits[-1]\n",
        "print(fruits)\n",
        "#['사과','배','오렌지','수박','참외']\n",
        "#['사과','배','오렌지','수박']\n",
        "\n",
        "solarsys=['태양','수성','금성','지구','화성','소행성대','목성','토성']\n",
        "del solarsys[4:6]\n",
        "print(solarsys)\n",
        "#['태양','수성','금성','지구','목성','토성']\n",
        "\n",
        "del solarsys[:]\n",
        "print(solarsys)\n",
        "[]\n",
        "\n",
        "solarsys=['태양','수성','금성','지구','화성','소행성대','목성','토성']\n",
        "if'소행성대'in solarsys:\n",
        "  idx=solarsys.index('소행성대')\n",
        "  del solarsys[idx]\n",
        "\n",
        "print(solarsys)\n",
        "#['태양','수성','금성','지구','목성','토성']\n",
        "\n",
        "fruits=['사과','배','오렌지','수박','참외']\n",
        "del fruits\n",
        "print(fruits)\n",
        "#print(fruits)\n",
        "\n",
        "#58\n",
        "numbers=[1,1,3,1,1,5,6,2,0,7]\n",
        "if 1 in numbers:\n",
        "  numbers.remove(1)\n",
        "print(numbers)\n",
        "#[1,3,1,1,5,6,2,0,7]\n",
        "\n",
        "numbers=[1,1,3,1,1,5,6,2,0,7]\n",
        "while 1 in numbers:\n",
        "  numbers.remove(1)\n",
        "print(numbers)\n",
        "[3,5,6,2,0,7]\n",
        "\n",
        "fruits=['사과','배','오렌지','수박','참외']\n",
        "fruits.remove('딸기')\n",
        "#fruits.remove('딸기')\n",
        "\n",
        "#59\n",
        "fruits=['사과','배','오렌지','수박','참외']\n",
        "fruits.clear()\n",
        "print(fruits)\n",
        "[]\n",
        "\n",
        "fruits=['사과','배','오렌지','수박','참외']\n",
        "del fruits[:]\n",
        "print(fruits)\n",
        "[]"
      ]
    }
  ]
}