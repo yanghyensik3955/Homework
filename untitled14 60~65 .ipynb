{
  "nbformat": 4,
  "nbformat_minor": 0,
  "metadata": {
    "colab": {
      "provenance": [],
      "authorship_tag": "ABX9TyM5umzs9rgLXgzOG2p8nxJq",
      "include_colab_link": true
    },
    "kernelspec": {
      "name": "python3",
      "display_name": "Python 3"
    },
    "language_info": {
      "name": "python"
    }
  },
  "cells": [
    {
      "cell_type": "markdown",
      "metadata": {
        "id": "view-in-github",
        "colab_type": "text"
      },
      "source": [
        "<a href=\"https://colab.research.google.com/github/yanghyensik3955/Homework/blob/main/untitled14%2060~65%20.ipynb\" target=\"_parent\"><img src=\"https://colab.research.google.com/assets/colab-badge.svg\" alt=\"Open In Colab\"/></a>"
      ]
    },
    {
      "cell_type": "code",
      "execution_count": null,
      "metadata": {
        "id": "p8IshIW2n6pO"
      },
      "outputs": [],
      "source": [
        "#60\n",
        "fruits=['사과','배','오렌지','수박','참외']\n",
        "buffer=fruits.copy()\n",
        "del buffer[-1]\n",
        "print(f'원본 리스트:{fruits}')\n",
        "print(f'복사본 리스트:{buffer}')\n",
        "\n",
        "#원본리스트:['사과','배','오렌지','수박','참외']\n",
        "#복사본 리스트:['사과','배','오렌지','수박']\n",
        "\n",
        "#61\n",
        "world=[]\n",
        "asia=['한국','중국','일본']\n",
        "europe=['독일','프랑스','영국']\n",
        "america=['미국','캐나다','멕시코']\n",
        "\n",
        "world.extend(asia)\n",
        "print(world)\n",
        "#['한국','중국','일본']\n",
        "\n",
        "world.extend(europe)\n",
        "print(world)\n",
        "world.extend(america)\n",
        "print(word)\n",
        "#['한국','중국','일본','독일','프랑스','영국']\n",
        "##['한국','중국','일본','독일','프랑스','영국','미국','캐나다','멕시코']\n",
        "\n",
        "world.clear()\n",
        "world+=asia\n",
        "world+=europe\n",
        "print(world)\n",
        "#['한국','중국','일본','독일','프랑스','영국']\n",
        "\n",
        "#62\n",
        "outer_planets=['목성','천왕성','해왕성']\n",
        "pos=outer_planets.index('천왕성')\n",
        "outer_planets.insert(pos,'토성')\n",
        "print(outer_planets)\n",
        "#['목성','토성','천왕성','해왕성']\n",
        "\n",
        "outer_planets.insert(-1,'명왕성')\n",
        "print(outer_planets)\n",
        "['목성','토성','천왕성','명왕성','해왕성']\n",
        "\n",
        "outer_planets=['목성','토성','천왕성','해왕성']\n",
        "outer_planets.insert(len(outer_planets),'명왕성')\n",
        "['목성','토성','천왕성','해왕성','명왕성']\n",
        "\n",
        "#63\n",
        "fileList=[]\n",
        "for i in range(3):\n",
        "  fname=input(f'파일 이름을 입력하세요[{i+1}/3]:')\n",
        "  if fname not in fileList:\n",
        "    fileList.append(fname)\n",
        "  print(f'현재 저장된 파일들:{fileList}')\n",
        "\n",
        "  #64\n",
        "  numbers=[14,5,18,45,10,43]\n",
        "  for_in range(len(numbers)):\n",
        "    ret=numbers.pop()\n",
        "    print(f'pop()으로 추출된 값:{ret},numbers={numbers}')\n",
        "\n",
        "  numbers=[14,5,18,45,10,43]\n",
        "  ret=numbers.pop(3)\n",
        "  print(f'pop()으로 추출된 값:{ret},numbers={numbers}')\n",
        "\n",
        "  #65\n",
        "  numbers=[1,2,3,4,5]\n",
        "  ret=reversed(numbers)\n",
        "  print(list(ret))\n",
        "  print(numbers)\n",
        "\n",
        "  numbers=[1,2,3,4,5]\n",
        "  numbers.reverse()\n",
        "  print(numbers)\n",
        "  #[5,4,3,2,1]"
      ]
    }
  ]
}